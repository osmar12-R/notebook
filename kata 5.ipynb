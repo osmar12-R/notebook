{
 "cells": [
  {
   "cell_type": "markdown",
   "metadata": {},
   "source": [
    "# actividad 1"
   ]
  },
  {
   "cell_type": "code",
   "execution_count": 2,
   "metadata": {},
   "outputs": [
    {
     "name": "stdout",
     "output_type": "stream",
     "text": [
      "628949330\n",
      "390577533.93\n"
     ]
    }
   ],
   "source": [
    "tierra = 149597870\n",
    "jupiter = 778547200\n",
    "distanciakm = jupiter - tierra\n",
    "print(distanciakm)\n",
    "\n",
    "distanciami = distanciakm * 0.621\n",
    "print(distanciami)"
   ]
  },
  {
   "cell_type": "markdown",
   "metadata": {},
   "source": [
    "# actividad 2"
   ]
  },
  {
   "cell_type": "code",
   "execution_count": 4,
   "metadata": {},
   "outputs": [
    {
     "name": "stdout",
     "output_type": "stream",
     "text": [
      "628949330\n",
      "390577533.93\n"
     ]
    }
   ],
   "source": [
    "tierra = input('distancia del sol de la tierra en KM')\n",
    "jupiter = input('distancia desde el sol de jupiter en KM')\n",
    "\n",
    "\n",
    "tierra = int(tierra)\n",
    "jupiter = int(jupiter)\n",
    "\n",
    "\n",
    "distanciaKm = jupiter - tierra\n",
    "print(distanciaKm)\n",
    "\n",
    "\n",
    "distanciaMi = distanciaKm * 0.621\n",
    "print(abs(distanciaMi))\n",
    "\n"
   ]
  }
 ],
 "metadata": {
  "interpreter": {
   "hash": "67be142b660a3e7f8024c56d98f0a02abedbab96c56e3383ff8a0958ceea9b5b"
  },
  "kernelspec": {
   "display_name": "Python 3.10.2 64-bit",
   "language": "python",
   "name": "python3"
  },
  "language_info": {
   "codemirror_mode": {
    "name": "ipython",
    "version": 3
   },
   "file_extension": ".py",
   "mimetype": "text/x-python",
   "name": "python",
   "nbconvert_exporter": "python",
   "pygments_lexer": "ipython3",
   "version": "3.10.2"
  },
  "orig_nbformat": 4
 },
 "nbformat": 4,
 "nbformat_minor": 2
}
