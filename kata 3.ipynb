{
 "cells": [
  {
   "cell_type": "markdown",
   "metadata": {},
   "source": [
    "# actividad"
   ]
  },
  {
   "cell_type": "code",
   "execution_count": 1,
   "metadata": {},
   "outputs": [
    {
     "name": "stdout",
     "output_type": "stream",
     "text": [
      "peligro ¡Un asteroide se acerca a gran velocidad\n",
      "no hay nada que ver\n",
      "mirar Hay una luz en el cielo\n"
     ]
    }
   ],
   "source": [
    "asteroide = 49\n",
    "if asteroide > 25:\n",
    "    print('peligro ¡Un asteroide se acerca a gran velocidad')\n",
    "else:\n",
    "    print('sin novedad ')\n",
    "\n",
    "asteroide = 19\n",
    "if asteroide > 20:\n",
    "    print('mirar Hay una luz en el cielo')\n",
    "elif asteroide == 20:\n",
    "    print('mirar Hay una luz mágica en el cielo')\n",
    "else:\n",
    "    print('no hay nada que ver')\n",
    "\n",
    "velocidad_asteroide = 25\n",
    "tamano_asteroide = 40\n",
    "if velocidad_asteroide > 25 and tamano_asteroide > 25:\n",
    "    print('peligro, Un asteroide muy peligroso viene hacia la Tierra!')\n",
    "elif velocidad_asteroide >= 20:\n",
    "    print('mirar Hay una luz en el cielo')\n",
    "elif tamano_asteroide < 25:\n",
    "    print('Nada que ver :)')\n",
    "else:\n",
    "    print('sin novedad :)')"
   ]
  }
 ],
 "metadata": {
  "interpreter": {
   "hash": "67be142b660a3e7f8024c56d98f0a02abedbab96c56e3383ff8a0958ceea9b5b"
  },
  "kernelspec": {
   "display_name": "Python 3.10.2 64-bit",
   "language": "python",
   "name": "python3"
  },
  "language_info": {
   "codemirror_mode": {
    "name": "ipython",
    "version": 3
   },
   "file_extension": ".py",
   "mimetype": "text/x-python",
   "name": "python",
   "nbconvert_exporter": "python",
   "pygments_lexer": "ipython3",
   "version": "3.10.2"
  },
  "orig_nbformat": 4
 },
 "nbformat": 4,
 "nbformat_minor": 2
}
