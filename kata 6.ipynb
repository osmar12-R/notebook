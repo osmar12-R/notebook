{
 "cells": [
  {
   "cell_type": "markdown",
   "metadata": {},
   "source": [
    "# actividad 1"
   ]
  },
  {
   "cell_type": "code",
   "execution_count": 3,
   "metadata": {},
   "outputs": [
    {
     "name": "stdout",
     "output_type": "stream",
     "text": [
      "estos son 8 planeta\n",
      "Pluton es el ultimo planeta\n"
     ]
    }
   ],
   "source": [
    "planets = ['mercurio', 'venus', 'tierra', 'Marte', 'Jupiter', 'Saturno', 'Urano', 'neptuno']\n",
    "\n",
    "print('estos son', len(planets), 'planeta')\n",
    "planets.append('Pluton')\n",
    "\n",
    "print(planets[-1], 'es el ultimo planeta')\n"
   ]
  },
  {
   "cell_type": "markdown",
   "metadata": {},
   "source": [
    "# actividad 2"
   ]
  },
  {
   "cell_type": "code",
   "execution_count": 5,
   "metadata": {},
   "outputs": [
    {
     "name": "stdout",
     "output_type": "stream",
     "text": [
      "estos planeta esta mas cerca detierra\n",
      "['mercurio', 'venus']\n",
      "estos plabnetas estan mas lejos de tierra\n",
      "['marte', 'jupiter', 'saturno', 'urano', 'neptuno']\n"
     ]
    }
   ],
   "source": [
    "planets = ['mercurio', 'venus', 'tierra', 'marte', 'jupiter', 'saturno', 'urano', 'neptuno']\n",
    "user_planet = input('porfavor ingresa el nombre del planeta ')\n",
    "\n",
    "planet_index = planets.index(user_planet)\n",
    "\n",
    "\n",
    "print('estos planeta esta mas cerca de ' + user_planet)\n",
    "print(planets[0:planet_index])\n",
    "\n",
    "print('estos plabnetas estan mas lejos de ' + user_planet)\n",
    "print(planets[planet_index + 1:])\n",
    "\n"
   ]
  }
 ],
 "metadata": {
  "interpreter": {
   "hash": "67be142b660a3e7f8024c56d98f0a02abedbab96c56e3383ff8a0958ceea9b5b"
  },
  "kernelspec": {
   "display_name": "Python 3.10.2 64-bit",
   "language": "python",
   "name": "python3"
  },
  "language_info": {
   "codemirror_mode": {
    "name": "ipython",
    "version": 3
   },
   "file_extension": ".py",
   "mimetype": "text/x-python",
   "name": "python",
   "nbconvert_exporter": "python",
   "pygments_lexer": "ipython3",
   "version": "3.10.2"
  },
  "orig_nbformat": 4
 },
 "nbformat": 4,
 "nbformat_minor": 2
}
