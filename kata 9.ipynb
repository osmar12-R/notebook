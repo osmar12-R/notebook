{
 "cells": [
  {
   "cell_type": "markdown",
   "metadata": {},
   "source": [
    "# acticvidad 1"
   ]
  },
  {
   "cell_type": "code",
   "execution_count": 1,
   "metadata": {},
   "outputs": [
    {
     "name": "stdout",
     "output_type": "stream",
     "text": [
      "reporte de combustible:\n",
      "    porsentaje total: 78.33333333333333%\n",
      "    tanque a gasolina: 80%\n",
      "    tanque gas: 70%\n",
      "    tanque a hidrogeno: 85% \n",
      "    \n",
      "repote de combustible:\n",
      "    porsentaje total: 78.0%\n",
      "   tanque a gasolina: 88%\n",
      "    tanque gas: 76%\n",
      "    tanque a hidrogeno: 70% \n",
      "    \n"
     ]
    }
   ],
   "source": [
    "\n",
    "def generate_report(tanque1, tanque2, tanque3):\n",
    "    total_average = (tanque1 + tanque2 + tanque3) / 3\n",
    "    return f\"\"\"reporte de combustible:\n",
    "    porsentaje total: {total_average}%\n",
    "    tanque a gasolina: {tanque1}%\n",
    "    tanque a gas: {tanque2}%\n",
    "    tanque a hidrogeno: {tanque3}% \n",
    "    \"\"\"\n",
    "print(generate_report(80, 70, 85))\n",
    "\n",
    "def average(values):\n",
    "    total = sum(values)\n",
    "    number_of_items = len(values)\n",
    "    return total / number_of_items\n",
    "average([80, 85, 81]) \n",
    "\n",
    "def generate_report(tanque1, tanque2, tanque3):\n",
    "    return f\"\"\"repote de combustible:\n",
    "    porsentaje total: {average([tanque1, tanque2, tanque3])}%\n",
    "   tanque a gasolina: {tanque1}%\n",
    "    tanque a gas: {tanque2}%\n",
    "    tanque a hidrogeno: {tanque3}% \n",
    "    \"\"\"\n",
    "print(generate_report(88, 76, 70))\n",
    "\n"
   ]
  },
  {
   "cell_type": "markdown",
   "metadata": {},
   "source": [
    "# acvtividad 2"
   ]
  },
  {
   "cell_type": "code",
   "execution_count": 7,
   "metadata": {},
   "outputs": [
    {
     "name": "stdout",
     "output_type": "stream",
     "text": [
      "\n",
      "    Missio a Moon\n",
      "    Total de tiempo en vuelo: 65 minutos\n",
      "    Total de combustible gastado: 500000 galones\n",
      "    \n",
      "\n",
      "    Misionn a Moon\n",
      "    total de tiempo de vuelo: 76 minutos\n",
      "    Total de combustible gastado: 500000\n",
      "    \n",
      "\n",
      "    Mision Moon\n",
      "    Total de tiempo de vuelo: 74 minutes\n",
      "    Total de combustible gastado: 500000\n",
      "    principal tanque --> 300000 galones de\n",
      "externo tanque --> 200000 galones de\n",
      "\n"
     ]
    }
   ],
   "source": [
    "def mission_report(tiempo_inicio, tiempo_vuelo, destino, tanque_ext, tanque_prin):\n",
    "    return f\"\"\"\n",
    "    Missio a {destino}\n",
    "    Total de tiempo en vuelo: {tiempo_inicio + tiempo_vuelo} minutos\n",
    "    Total de combustible gastado: {tanque_ext + tanque_prin} galones\n",
    "    \"\"\"\n",
    "\n",
    "print(mission_report(14, 51, \"Moon\", 200000, 300000))\n",
    "\n",
    "def mission_report(destino, *minutes, **fuel_reservoirs):\n",
    "    return f\"\"\"\n",
    "    Misionn a {destino}\n",
    "    total de tiempo de vuelo: {sum(minutes)} minutos\n",
    "    Total de combustible gastado: {sum(fuel_reservoirs.values())}\n",
    "    \"\"\"\n",
    "\n",
    "print(mission_report(\"Moon\", 10, 15, 51, main=300000, external=200000))\n",
    "\n",
    "def mission_report(destino, *minutes, **fuel_reservoirs):\n",
    "    main_report = f\"\"\"\n",
    "    Mision {destino}\n",
    "    Total de tiempo de vuelo: {sum(minutes)} minutes\n",
    "    Total de combustible gastado: {sum(fuel_reservoirs.values())}\n",
    "    \"\"\"\n",
    "    for tank_name, gallons in fuel_reservoirs.items():\n",
    "        main_report += f\"{tank_name} tanque --> {gallons} galones de\\n\"\n",
    "    return main_report\n",
    "\n",
    "print(mission_report(\"Moon\", 8, 11, 55, principal=300000, externo=200000))\n",
    "\n"
   ]
  }
 ],
 "metadata": {
  "interpreter": {
   "hash": "67be142b660a3e7f8024c56d98f0a02abedbab96c56e3383ff8a0958ceea9b5b"
  },
  "kernelspec": {
   "display_name": "Python 3.10.2 64-bit",
   "language": "python",
   "name": "python3"
  },
  "language_info": {
   "codemirror_mode": {
    "name": "ipython",
    "version": 3
   },
   "file_extension": ".py",
   "mimetype": "text/x-python",
   "name": "python",
   "nbconvert_exporter": "python",
   "pygments_lexer": "ipython3",
   "version": "3.10.2"
  },
  "orig_nbformat": 4
 },
 "nbformat": 4,
 "nbformat_minor": 2
}
